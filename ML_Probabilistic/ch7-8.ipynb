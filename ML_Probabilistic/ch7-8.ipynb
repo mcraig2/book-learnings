{
 "cells": [
  {
   "cell_type": "code",
   "execution_count": 2,
   "metadata": {
    "collapsed": true
   },
   "outputs": [],
   "source": [
    "x <- c(94, 96, 94, 95, 104, 106, 108, 113, 115, 121, 131)\n",
    "y <- c(.47, .75, .83, .98, 1.18, 1.29, 1.40, 1.60, 1.75, 1.90, 2.23)"
   ]
  },
  {
   "cell_type": "code",
   "execution_count": 3,
   "metadata": {
    "collapsed": false
   },
   "outputs": [
    {
     "data": {
      "text/html": [
       "51.860348485015"
      ],
      "text/latex": [
       "51.860348485015"
      ],
      "text/markdown": [
       "51.860348485015"
      ],
      "text/plain": [
       "[1] 51.86035"
      ]
     },
     "metadata": {},
     "output_type": "display_data"
    }
   ],
   "source": [
    "# a. Compute unbiased estimate of \\sigma^2\n",
    "w1 <- cov(x, y) / var(x)\n",
    "w0 <- mean(y) - w1 * mean(x)\n",
    "sigma <- (1 / (length(x) - 2)) * sum((y - w1*x + w0) ** 2)\n",
    "sigma"
   ]
  },
  {
   "cell_type": "code",
   "execution_count": 6,
   "metadata": {
    "collapsed": false
   },
   "outputs": [
    {
     "data": {
      "text/html": [
       "0.0125673004153105"
      ],
      "text/latex": [
       "0.0125673004153105"
      ],
      "text/markdown": [
       "0.0125673004153105"
      ],
      "text/plain": [
       "[1] 0.0125673"
      ]
     },
     "metadata": {},
     "output_type": "display_data"
    }
   ],
   "source": [
    "v_n <- sigma / (sigma + sum(x ** 2))\n",
    "w_n <- (1 / sigma) * v_n * sum(x * y)\n",
    "w_n"
   ]
  },
  {
   "cell_type": "code",
   "execution_count": null,
   "metadata": {
    "collapsed": true
   },
   "outputs": [],
   "source": []
  }
 ],
 "metadata": {
  "anaconda-cloud": {},
  "kernelspec": {
   "display_name": "R",
   "language": "R",
   "name": "ir"
  },
  "language_info": {
   "codemirror_mode": "r",
   "file_extension": ".r",
   "mimetype": "text/x-r-source",
   "name": "R",
   "pygments_lexer": "r",
   "version": "3.3.3"
  }
 },
 "nbformat": 4,
 "nbformat_minor": 1
}
