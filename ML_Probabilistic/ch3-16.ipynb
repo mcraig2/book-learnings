{
 "cells": [
  {
   "cell_type": "code",
   "execution_count": 16,
   "metadata": {
    "collapsed": true
   },
   "outputs": [],
   "source": [
    "from functools import partial\n",
    "from scipy.stats import beta\n",
    "from scipy import integrate\n",
    "from scipy.optimize import minimize"
   ]
  },
  {
   "cell_type": "code",
   "execution_count": 17,
   "metadata": {
    "collapsed": true
   },
   "outputs": [],
   "source": [
    "def calc_alpha2(alpha1, m):\n",
    "    return (alpha1 / m) - alpha1\n",
    "\n",
    "def objective_func(alpha1, m, l, u):\n",
    "    pdf = partial(beta.pdf, a=alpha1, b=calc_alpha2(alpha1, m))\n",
    "    return (integrate.quad(pdf, l, u)[0] - 0.95) ** 2"
   ]
  },
  {
   "cell_type": "code",
   "execution_count": 18,
   "metadata": {
    "collapsed": false
   },
   "outputs": [
    {
     "data": {
      "text/plain": [
       "0.2887553342140951"
      ]
     },
     "execution_count": 18,
     "metadata": {},
     "output_type": "execute_result"
    }
   ],
   "source": [
    "objective_func(alpha1=0.3, m=0.4, l=0.1, u=0.8)"
   ]
  },
  {
   "cell_type": "code",
   "execution_count": 21,
   "metadata": {
    "collapsed": true
   },
   "outputs": [],
   "source": [
    "def reparameterize(m, l, u):\n",
    "    \"\"\" Given a mean, and a lower and upper bound on the\n",
    "        95% probability bounds, return the alpha1 and alpha2\n",
    "        of the Beta distribution. \"\"\"\n",
    "    alpha1 = minimize(objective_func, x0=0.1, args=(m, l, u)).x\n",
    "    return (alpha1, calc_alpha2(alpha1, m))"
   ]
  },
  {
   "cell_type": "code",
   "execution_count": 23,
   "metadata": {
    "collapsed": false
   },
   "outputs": [
    {
     "data": {
      "text/plain": [
       "(array([ 1.90641898]), array([ 5.71925694]))"
      ]
     },
     "execution_count": 23,
     "metadata": {},
     "output_type": "execute_result"
    }
   ],
   "source": [
    "reparameterize(m=0.25, l=0.05, u=0.78)"
   ]
  },
  {
   "cell_type": "code",
   "execution_count": 34,
   "metadata": {
    "collapsed": false
   },
   "outputs": [
    {
     "name": "stdout",
     "output_type": "stream",
     "text": [
      "Mean: [ 0.25]\n",
      "Quantile of l: [ 0.01189018]\n",
      "Quantile of u: [ 0.96174052]\n"
     ]
    }
   ],
   "source": [
    "# Let's test this\n",
    "a, b = reparameterize(m=0.25, l=0.05, u=0.48)\n",
    "print('Mean: {}'.format(beta.mean(a, b)))\n",
    "print('Quantile of l: {}'.format(beta.cdf(0.05, a, b)))\n",
    "print('Quantile of u: {}'.format(beta.cdf(0.48, a, b)))"
   ]
  },
  {
   "cell_type": "code",
   "execution_count": null,
   "metadata": {
    "collapsed": true
   },
   "outputs": [],
   "source": []
  }
 ],
 "metadata": {
  "anaconda-cloud": {},
  "kernelspec": {
   "display_name": "Python [default]",
   "language": "python",
   "name": "python3"
  },
  "language_info": {
   "codemirror_mode": {
    "name": "ipython",
    "version": 3
   },
   "file_extension": ".py",
   "mimetype": "text/x-python",
   "name": "python",
   "nbconvert_exporter": "python",
   "pygments_lexer": "ipython3",
   "version": "3.5.2"
  }
 },
 "nbformat": 4,
 "nbformat_minor": 1
}
