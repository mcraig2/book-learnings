{
 "cells": [
  {
   "cell_type": "code",
   "execution_count": 1,
   "metadata": {
    "collapsed": true
   },
   "outputs": [],
   "source": [
    "x <- c(67, 79, 71, 68, 67, 60)\n",
    "y <- c(0, 0, 0, 1, 1, 1)"
   ]
  },
  {
   "cell_type": "markdown",
   "metadata": {},
   "source": [
    "A. Find the estimates for the class means, standard deviations, and class priors"
   ]
  },
  {
   "cell_type": "code",
   "execution_count": 2,
   "metadata": {
    "collapsed": false
   },
   "outputs": [
    {
     "name": "stdout",
     "output_type": "stream",
     "text": [
      "[1] \"Class prior male: 0.5\"\n",
      "[1] \"Class prior female: 0.5\"\n",
      "[1] \"Sigma male: 6.11010092660779\"\n",
      "[1] \"Sigma female: 6.11010092660779\"\n",
      "[1] \"Mean male: 72.3333333333333\"\n",
      "[1] \"Mean female: 72.3333333333333\"\n"
     ]
    }
   ],
   "source": [
    "pi_m <- mean(y == 0)\n",
    "pi_f <- mean(y == 1)\n",
    "sigma_m <- sd(x[y == 0])\n",
    "sigma_f <- sd(x[y == 1])\n",
    "mean_m <- mean(x[y == 0])\n",
    "mean_f <- mean(x[y == 1])\n",
    "\n",
    "print(paste0('Class prior male: ', pi_m))\n",
    "print(paste0('Class prior female: ', pi_m))\n",
    "print(paste0('Sigma male: ', sigma_m))\n",
    "print(paste0('Sigma female: ', sigma_m))\n",
    "print(paste0('Mean male: ', mean_m))\n",
    "print(paste0('Mean female: ', mean_m))"
   ]
  },
  {
   "cell_type": "code",
   "execution_count": 3,
   "metadata": {
    "collapsed": true
   },
   "outputs": [],
   "source": [
    "bayes_classifier <- function(x) {\n",
    "    prob_m <- pi_m * dnorm(x, mean=mean_m, sd=sigma_m)\n",
    "    prob_f <- pi_f * dnorm(x, mean=mean_f, sd=sigma_f)\n",
    "    return(c('male'=prob_m/(prob_m + prob_f), 'female'=prob_f/(prob_m + prob_f)))\n",
    "}"
   ]
  },
  {
   "cell_type": "markdown",
   "metadata": {},
   "source": [
    "B. Use the Bayes Classifier to predict at height 72."
   ]
  },
  {
   "cell_type": "code",
   "execution_count": 4,
   "metadata": {
    "collapsed": false
   },
   "outputs": [
    {
     "data": {
      "text/html": [
       "<dl class=dl-horizontal>\n",
       "\t<dt>male</dt>\n",
       "\t\t<dd>0.721167822504358</dd>\n",
       "\t<dt>female</dt>\n",
       "\t\t<dd>0.278832177495642</dd>\n",
       "</dl>\n"
      ],
      "text/latex": [
       "\\begin{description*}\n",
       "\\item[male] 0.721167822504358\n",
       "\\item[female] 0.278832177495642\n",
       "\\end{description*}\n"
      ],
      "text/markdown": [
       "male\n",
       ":   0.721167822504358female\n",
       ":   0.278832177495642\n",
       "\n"
      ],
      "text/plain": [
       "     male    female \n",
       "0.7211678 0.2788322 "
      ]
     },
     "metadata": {},
     "output_type": "display_data"
    }
   ],
   "source": [
    "bayes_classifier(72)"
   ]
  },
  {
   "cell_type": "markdown",
   "metadata": {},
   "source": [
    "C. What techniques could you use to extend this to handle multiple attributes?"
   ]
  },
  {
   "cell_type": "markdown",
   "metadata": {},
   "source": [
    "The techniques above hold, you would just need to use a multivariate Guassian instead of a 1-d Guassian."
   ]
  },
  {
   "cell_type": "code",
   "execution_count": null,
   "metadata": {
    "collapsed": true
   },
   "outputs": [],
   "source": []
  }
 ],
 "metadata": {
  "anaconda-cloud": {},
  "kernelspec": {
   "display_name": "R",
   "language": "R",
   "name": "ir"
  },
  "language_info": {
   "codemirror_mode": "r",
   "file_extension": ".r",
   "mimetype": "text/x-r-source",
   "name": "R",
   "pygments_lexer": "r",
   "version": "3.3.3"
  }
 },
 "nbformat": 4,
 "nbformat_minor": 1
}
