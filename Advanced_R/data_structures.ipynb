{
 "cells": [
  {
   "cell_type": "markdown",
   "metadata": {},
   "source": [
    "# Exercises"
   ]
  },
  {
   "cell_type": "markdown",
   "metadata": {},
   "source": [
    "**1. What are the six types of atomic vector? How does a list differ from an atomic vector?**"
   ]
  },
  {
   "cell_type": "markdown",
   "metadata": {},
   "source": [
    "Six types of atomic vectors are: *logical*, *integer*, *double*, *character*, *complex*, *raw*. Lists can have elements of any type, whereas atomic vectors have to be all the same type."
   ]
  },
  {
   "cell_type": "markdown",
   "metadata": {},
   "source": [
    "**2. What makes `is.vector()` and `is.numeric()` fundamentally different to `is.list()` and `is.character()`?**"
   ]
  },
  {
   "cell_type": "markdown",
   "metadata": {},
   "source": [
    "`is.vector()` tests for vector-ness as well as having no attributes other than `names`. `is.numeric()` tests for numberliness of the data (either `integer` or `double`). `is.list()` actually tests for whether the input is a list, and `is.character()` tests for the actual character class of the input."
   ]
  },
  {
   "cell_type": "markdown",
   "metadata": {},
   "source": [
    "**3. Test your knowledge of vector coercion rules by predicting the output of the following uses of `c()`:**\n",
    "\n",
    "    c(1, FALSE)       # will output [1] 1 0\n",
    "    c(\"a\", 1)         # will output [1] \"a\" \"1\"\n",
    "    c(list(1), \"a\")   # will output a list with two elements, list(1) and \"a\"\n",
    "    c(TRUE, 1L)       # will output [1] 1 1"
   ]
  },
  {
   "cell_type": "markdown",
   "metadata": {},
   "source": [
    "**4. Why do you need to use `unlist()` to convert a list to an atomic vector? Why doesn’t `as.vector()` work?**"
   ]
  },
  {
   "cell_type": "markdown",
   "metadata": {},
   "source": [
    "Since `c(list(1, 2), 3)` is used to combine many lists into one, casting a list to a vector with `as.vector()` won't work."
   ]
  },
  {
   "cell_type": "markdown",
   "metadata": {},
   "source": [
    "**5. Why is `1 == \"1\"` true? Why is `-1 < FALSE` true? Why is `\"one\" < 2` false?**"
   ]
  },
  {
   "cell_type": "markdown",
   "metadata": {},
   "source": [
    "In the expression `1 == \"1\"`, `1` is coerced to `\"1\"`, so the expression becomes `\"1\" == \"1\"`, which is true.\n",
    "\n",
    "In the expression `-1 < FALSE`, `FALSE` is coerced to `0`, so the expression becomes `-1 < 0`, which is true.\n",
    "\n",
    "In the expression `\"one\" < 2`, `2` i coerced to `\"2\"`, so the expression becomes `\"one\" < \"2\"`, which is false because `\"one\"` lexiographically comes after `\"2\"`."
   ]
  },
  {
   "cell_type": "markdown",
   "metadata": {},
   "source": [
    "**6. Why is the default missing value, `NA`, a logical vector? What’s special about logical vectors? (Hint: think about `c(FALSE, NA_character_)`.)**"
   ]
  },
  {
   "cell_type": "markdown",
   "metadata": {},
   "source": [
    "Logical vectors are at the bottom of the totem pole in terms of coercion. In other words, by having `NA` be a logical vector, it can be cast to any other datatype without loss of information."
   ]
  },
  {
   "cell_type": "markdown",
   "metadata": {},
   "source": [
    "**7. An early draft used this code to illustrate `structure()`:**\n",
    "\n",
    "    structure(1:5, comment = \"my attribute\")\n",
    "      [1] 1 2 3 4 5\n",
    "\n",
    "**But when you print that object you don’t see the comment attribute. Why? Is the attribute missing, or is there something else special about it? (Hint: try using help.)**"
   ]
  },
  {
   "cell_type": "markdown",
   "metadata": {},
   "source": [
    "The `comment` attribute is a special attribute, and therefore wouldn't be displayed when overwritten like this."
   ]
  },
  {
   "cell_type": "markdown",
   "metadata": {},
   "source": [
    "**8. What happens to a factor when you modify its levels?**\n",
    "\n",
    "    f1 <- factor(letters)\n",
    "    levels(f1) <- rev(levels(f1))"
   ]
  },
  {
   "cell_type": "code",
   "execution_count": 1,
   "metadata": {
    "collapsed": false
   },
   "outputs": [
    {
     "data": {
      "text/plain": [
       "f1\n",
       "a b c \n",
       "2 3 1 "
      ]
     },
     "metadata": {},
     "output_type": "display_data"
    },
    {
     "data": {
      "text/plain": [
       "f1\n",
       "c b a \n",
       "2 3 1 "
      ]
     },
     "metadata": {},
     "output_type": "display_data"
    }
   ],
   "source": [
    "# When you do this, you change the labels and what counts are associated with what. This can be very confusing.\n",
    "f1 <- factor(c('a','a','b','b','b','c'))\n",
    "table(f1)\n",
    "levels(f1) <- rev(levels(f1))\n",
    "table(f1)"
   ]
  },
  {
   "cell_type": "markdown",
   "metadata": {},
   "source": [
    "**9. What does this code do? How do f2 and f3 differ from f1?**\n",
    "\n",
    "    f2 <- rev(factor(letters))\n",
    "    f3 <- factor(letters, levels = rev(letters))"
   ]
  },
  {
   "cell_type": "markdown",
   "metadata": {},
   "source": [
    "`f3` is equivalent to the two lines in exercise 8 that defines `f1`. `f2` has the levels in the correct order, but the data list is reversed."
   ]
  },
  {
   "cell_type": "markdown",
   "metadata": {},
   "source": [
    "**10. What does `dim()` return when applied to a vector?**"
   ]
  },
  {
   "cell_type": "markdown",
   "metadata": {},
   "source": [
    "`dim()` returns `NULL` when applied to a vector. This is because giving a `dim` attribute to a vector will turn it into a array."
   ]
  },
  {
   "cell_type": "markdown",
   "metadata": {},
   "source": [
    "**11. If `is.matrix(x)` is `TRUE`, what will `is.array(x)` return?**"
   ]
  },
  {
   "cell_type": "markdown",
   "metadata": {},
   "source": [
    "It will return `TRUE`, because a matrix is a special case of an array."
   ]
  },
  {
   "cell_type": "markdown",
   "metadata": {},
   "source": [
    "**12. How would you describe the following three objects? What makes them different to `1:5`?**\n",
    "\n",
    "    x1 <- array(1:5, c(1, 1, 5))\n",
    "    x2 <- array(1:5, c(1, 5, 1))\n",
    "    x3 <- array(1:5, c(5, 1, 1))"
   ]
  },
  {
   "cell_type": "markdown",
   "metadata": {},
   "source": [
    "`1:5` is an atomic array, whereas `x1`, `x2`, and `x3` are all arrays. The dimensions of the arrays are displayed in the second argument."
   ]
  },
  {
   "cell_type": "markdown",
   "metadata": {},
   "source": [
    "**13. What attributes does a data frame possess?**"
   ]
  },
  {
   "cell_type": "markdown",
   "metadata": {},
   "source": [
    "A data frame has `names`, `colnames`, `rownames`, `length`, `nrow`, and `ncol`."
   ]
  },
  {
   "cell_type": "markdown",
   "metadata": {},
   "source": [
    "**14. What does `as.matrix()` do when applied to a data frame with columns of different types?**"
   ]
  },
  {
   "cell_type": "code",
   "execution_count": 3,
   "metadata": {
    "collapsed": false
   },
   "outputs": [
    {
     "name": "stdout",
     "output_type": "stream",
     "text": [
      "     one two\n",
      "[1,] \"1\" \"a\"\n",
      "[2,] \"2\" \"b\"\n",
      "[3,] \"3\" \"c\"\n"
     ]
    }
   ],
   "source": [
    "# In this case, regular coercion rules apply column-wise when casting to a matrix\n",
    "d <- data.frame(one=c(1,2,3), two=c('a','b','c'))\n",
    "print(as.matrix(d))"
   ]
  },
  {
   "cell_type": "markdown",
   "metadata": {},
   "source": [
    "**15. Can you have a data frame with 0 rows? What about 0 columns?**"
   ]
  },
  {
   "cell_type": "markdown",
   "metadata": {},
   "source": [
    "Yes, though it no longer has `list` as its class."
   ]
  },
  {
   "cell_type": "code",
   "execution_count": null,
   "metadata": {
    "collapsed": true
   },
   "outputs": [],
   "source": []
  }
 ],
 "metadata": {
  "anaconda-cloud": {},
  "kernelspec": {
   "display_name": "R",
   "language": "R",
   "name": "ir"
  },
  "language_info": {
   "codemirror_mode": "r",
   "file_extension": ".r",
   "mimetype": "text/x-r-source",
   "name": "R",
   "pygments_lexer": "r",
   "version": "3.3.3"
  }
 },
 "nbformat": 4,
 "nbformat_minor": 1
}
