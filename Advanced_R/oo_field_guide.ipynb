{
 "cells": [
  {
   "cell_type": "markdown",
   "metadata": {},
   "source": [
    "# Exercises"
   ]
  },
  {
   "cell_type": "markdown",
   "metadata": {},
   "source": [
    "**1. Read the source code for `t()` and `t.test()` and confirm that `t.test()` is an S3 generic and not an S3 method. What happens if you create an object with class test and call `t()` with it?**"
   ]
  },
  {
   "cell_type": "code",
   "execution_count": 8,
   "metadata": {
    "collapsed": false
   },
   "outputs": [
    {
     "name": "stdout",
     "output_type": "stream",
     "text": [
      "[1] \"s3\"      \"generic\"\n",
      "\n",
      "\tOne Sample t-test\n",
      "\n",
      "data:  x\n",
      "t = 3.4641, df = 2, p-value = 0.07418\n",
      "alternative hypothesis: true mean is not equal to 0\n",
      "95 percent confidence interval:\n",
      " -0.4841377  4.4841377\n",
      "sample estimates:\n",
      "mean of x \n",
      "        2 \n",
      "\n"
     ]
    }
   ],
   "source": [
    "library(pryr)\n",
    "\n",
    "print(ftype(t.test))\n",
    "\n",
    "x <- 1:3\n",
    "class(x) <- 'test'\n",
    "\n",
    "print(t(x))\n",
    "\n",
    "# Running `t(x)` matches to the `t.test(x)` function because I have class `test`"
   ]
  },
  {
   "cell_type": "markdown",
   "metadata": {},
   "source": [
    "**2. What classes have a method for the `Math` group generic in base R? Read the source code. How do the methods work?**"
   ]
  },
  {
   "cell_type": "code",
   "execution_count": null,
   "metadata": {
    "collapsed": true
   },
   "outputs": [],
   "source": []
  },
  {
   "cell_type": "markdown",
   "metadata": {},
   "source": [
    "**3. R has two classes for representing date time data, `POSIXct` and `POSIXlt`, which both inherit from `POSIXt`. Which generics have different behaviours for the two classes? Which generics share the same behaviour?**"
   ]
  },
  {
   "cell_type": "markdown",
   "metadata": {},
   "source": [
    "`POSIXct` is a count of time clock since 1970, whereas `POSIXlt` is a list of information about the date (day, month, second, etc). Because of this, some generics cannot have the same behavior. For example, `print(...)` works differently, since `POSIXct` does not have timezone information. Also comparison operators (`<`, `-`, etc.) for `POSIXlt` objects should be handled carefully, since the objects may differ in the fields present."
   ]
  },
  {
   "cell_type": "markdown",
   "metadata": {},
   "source": [
    "**4. Which base generic has the greatest number of defined methods?**"
   ]
  },
  {
   "cell_type": "code",
   "execution_count": 38,
   "metadata": {
    "collapsed": false,
    "scrolled": false
   },
   "outputs": [
    {
     "data": {
      "text/html": [
       "<dl class=dl-horizontal>\n",
       "\t<dt>[</dt>\n",
       "\t\t<dd>35</dd>\n",
       "\t<dt>as.character</dt>\n",
       "\t\t<dd>14</dd>\n",
       "\t<dt>[[</dt>\n",
       "\t\t<dd>12</dd>\n",
       "\t<dt>$</dt>\n",
       "\t\t<dd>12</dd>\n",
       "\t<dt>c</dt>\n",
       "\t\t<dd>10</dd>\n",
       "\t<dt>[&lt;-</dt>\n",
       "\t\t<dd>9</dd>\n",
       "</dl>\n"
      ],
      "text/latex": [
       "\\begin{description*}\n",
       "\\item[\\{{[}\\}] 35\n",
       "\\item[as.character] 14\n",
       "\\item[\\{{[}\\}\\{{[}\\}] 12\n",
       "\\item[\\textbackslash{}\\$] 12\n",
       "\\item[c] 10\n",
       "\\item[\\{{[}\\}<-] 9\n",
       "\\end{description*}\n"
      ],
      "text/markdown": [
       "[\n",
       ":   35as.character\n",
       ":   14[[\n",
       ":   12$\n",
       ":   12c\n",
       ":   10[&amp;lt;-\n",
       ":   9\n",
       "\n"
      ],
      "text/plain": [
       "           [ as.character           [[            $            c          [<- \n",
       "          35           14           12           12           10            9 "
      ]
     },
     "metadata": {},
     "output_type": "display_data"
    }
   ],
   "source": [
    "library(dplyr)\n",
    "\n",
    "objs <- mget(ls('package:base'), inherits=TRUE)\n",
    "funs <- Filter(is.function, objs)\n",
    "generics <- funs %>%\n",
    "                sapply(ftype) %>%\n",
    "                sapply(function(x) x[2])\n",
    "generics <- Filter(function(x) x == 'generic', generics)\n",
    "gen.methods <- sapply(names(generics), methods) %>%\n",
    "               sapply(length) %>%\n",
    "               sort(decreasing=TRUE)\n",
    "\n",
    "head(gen.methods)"
   ]
  },
  {
   "cell_type": "markdown",
   "metadata": {},
   "source": [
    "**5. `UseMethod()` calls methods in a special way. Predict what the following code will return, then run it and read the help for `UseMethod()` to figure out what’s going on. Write down the rules in the simplest form possible.**"
   ]
  },
  {
   "cell_type": "code",
   "execution_count": 41,
   "metadata": {
    "collapsed": false
   },
   "outputs": [
    {
     "data": {
      "text/html": [
       "2"
      ],
      "text/latex": [
       "2"
      ],
      "text/markdown": [
       "2"
      ],
      "text/plain": [
       "[1] 2"
      ]
     },
     "metadata": {},
     "output_type": "display_data"
    },
    {
     "data": {
      "text/html": [
       "'char a'"
      ],
      "text/latex": [
       "'char a'"
      ],
      "text/markdown": [
       "'char a'"
      ],
      "text/plain": [
       "[1] \"char a\""
      ]
     },
     "metadata": {},
     "output_type": "display_data"
    }
   ],
   "source": [
    "# I predict `g(10)` to return 2.\n",
    "# I predict `h(\"a\")` to return \"char a\"\n",
    "\n",
    "y <- 1\n",
    "g <- function(x) {\n",
    "    y <- 2\n",
    "    UseMethod(\"g\")\n",
    "}\n",
    "g.numeric <- function(x) y\n",
    "g(10)\n",
    "\n",
    "h <- function(x) {\n",
    "    x <- 10\n",
    "    UseMethod(\"h\")\n",
    "}\n",
    "h.character <- function(x) paste(\"char\", x)\n",
    "h.numeric <- function(x) paste(\"num\", x)\n",
    "\n",
    "h(\"a\")\n",
    "    \n",
    "# What's happening:\n",
    "#    for `g(10)`, since 10 is numeric, it calls `g.numeric`, which returns `y`.\n",
    "#    `y` is defined as 2, so it returns 2.\n",
    "#\n",
    "#    for `h(\"a\")`, it calls `h.character`, which returns `paste(\"char\", x)`. Since\n",
    "#    `x` is the argument for `h.character`, it uses this as `x`, which is \"a\", so\n",
    "#    it returns \"char a\"."
   ]
  },
  {
   "cell_type": "markdown",
   "metadata": {},
   "source": [
    "**6. Internal generics don’t dispatch on the implicit class of base types. Carefully read `?\"internal generic\"` to determine why the length of `f` and `g` is different in the example below. What function helps distinguish between the behaviour of `f` and `g`?**\n",
    "\n",
    "    f <- function() 1\n",
    "    g <- function() 2\n",
    "    class(g) <- \"function\"\n",
    "\n",
    "    class(f)\n",
    "    class(g)\n",
    "\n",
    "    length.function <- function(x) \"function\"\n",
    "    length(f)\n",
    "    length(g)"
   ]
  },
  {
   "cell_type": "markdown",
   "metadata": {},
   "source": [
    "Internal generics only dispatch on objects, where `is.object()` returns `TRUE`. Looking at the documentation of `is.object()`, this checks for an `OBJECT` bit flag, which is set when the `class<-` is set. When you first define `f` and `g` like above, `is.object(f)` returns `FALSE`, so dispath doesn't work and `length.function()` is not called for `f`. But when you explicitly set the class for `g`, that changes things for `g`, and `length.function()` is called rather than the generic `length`."
   ]
  },
  {
   "cell_type": "markdown",
   "metadata": {},
   "source": [
    "**7. Which S4 generic has the most methods defined for it? Which S4 class has the most methods associated with it?**"
   ]
  },
  {
   "cell_type": "markdown",
   "metadata": {},
   "source": []
  },
  {
   "cell_type": "markdown",
   "metadata": {},
   "source": [
    "**8. What happens if you define a new S4 class that doesn’t “contain” an existing class? (Hint: read about virtual classes in `?setClass`.)**"
   ]
  },
  {
   "cell_type": "markdown",
   "metadata": {},
   "source": [
    "Doing so creates a virtual class, which is a class that can have no instantiations."
   ]
  },
  {
   "cell_type": "markdown",
   "metadata": {},
   "source": [
    "**9. What happens if you pass an S4 object to an S3 generic? What happens if you pass an S3 object to an S4 generic? (Hint: read `?setOldClass` for the second case.)**"
   ]
  },
  {
   "cell_type": "markdown",
   "metadata": {},
   "source": [
    "If you pass an S4 object to an S3 generic, it can use `extends(class(x))` to get the inheritance hierarchy and find the correct method to use. If you pass an S3 object to an S4 generic, it calls `setOldClass` in the constructor of an S4 object, which creates an S4 object with the S3 object as a template."
   ]
  },
  {
   "cell_type": "markdown",
   "metadata": {},
   "source": [
    "**10. Use a field function to prevent the account balance from being directly manipulated. (Hint: create a “hidden” `.balance` field, and read the help for the fields argument in `setRefClass()`.)**"
   ]
  },
  {
   "cell_type": "markdown",
   "metadata": {},
   "source": [
    "TODO"
   ]
  },
  {
   "cell_type": "markdown",
   "metadata": {},
   "source": [
    "**11. I claimed that there aren’t any RC classes in base R, but that was a bit of a simplification. Use `getClasses()` and find which classes `extend()` from `envRefClass`. What are the classes used for? (Hint: recall how to look up the documentation for a class.)**"
   ]
  },
  {
   "cell_type": "code",
   "execution_count": 73,
   "metadata": {
    "collapsed": false
   },
   "outputs": [
    {
     "name": "stdout",
     "output_type": "stream",
     "text": [
      "named list()\n"
     ]
    }
   ],
   "source": [
    "library(methods)\n",
    "\n",
    "classes <- getClasses(where=as.environment('package:base'))\n",
    "ref.class.mask <- sapply(sapply(classes, extends), function(x) 'envRefClass' %in% x)\n",
    "print(head(ref.class.mask))"
   ]
  },
  {
   "cell_type": "code",
   "execution_count": null,
   "metadata": {
    "collapsed": true
   },
   "outputs": [],
   "source": []
  }
 ],
 "metadata": {
  "anaconda-cloud": {},
  "kernelspec": {
   "display_name": "R",
   "language": "R",
   "name": "ir"
  },
  "language_info": {
   "codemirror_mode": "r",
   "file_extension": ".r",
   "mimetype": "text/x-r-source",
   "name": "R",
   "pygments_lexer": "r",
   "version": "3.3.3"
  }
 },
 "nbformat": 4,
 "nbformat_minor": 1
}
