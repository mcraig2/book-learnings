{
 "cells": [
  {
   "cell_type": "markdown",
   "metadata": {},
   "source": [
    "# Exercises"
   ]
  },
  {
   "cell_type": "markdown",
   "metadata": {},
   "source": [
    "**1. Fix each of the following common data frame subsetting errors:**\n",
    "\n",
    "```\n",
    "mtcars[mtcars$cyl = 4, ]\n",
    "mtcars[-1:4, ]\n",
    "mtcars[mtcars$cyl <= 5]\n",
    "mtcars[mtcars$cyl == 4 | 6, ]\n",
    "```"
   ]
  },
  {
   "cell_type": "markdown",
   "metadata": {},
   "source": [
    "```\n",
    "mtcars[mcars$cyl == 4, ]\n",
    "mtcars[1:4, ]\n",
    "mtcars[mtcars$cyl <= 5, ]\n",
    "mtcars[mtcars$cyl %in% c(4, 6), ]\n",
    "```"
   ]
  },
  {
   "cell_type": "markdown",
   "metadata": {},
   "source": [
    "**2. Why does `x <- 1:5; x[NA]` yield five missing values? (Hint: why is it different from `x[NA_real_]`?)**"
   ]
  },
  {
   "cell_type": "markdown",
   "metadata": {},
   "source": [
    "Since `NA` is of type `logical`, it tests each element against `NA`, thus yielding a vector of length 5 where each element is `NA`. `NA_real_` doesn't do this because `NA_real_` is not of type `logical`."
   ]
  },
  {
   "cell_type": "markdown",
   "metadata": {},
   "source": [
    "**3. What does `upper.tri()` return? How does subsetting a matrix with it work? Do we need any additional subsetting rules to describe its behaviour?**\n",
    "\n",
    "    x <- outer(1:5, 1:5, FUN = \"*\")\n",
    "    x[upper.tri(x)]"
   ]
  },
  {
   "cell_type": "markdown",
   "metadata": {},
   "source": [
    "`upper.tri()` returns a logical matrix that is `TRUE` for values in the upper triangle of the input matrix, and `FALSE` otherwise.\n",
    "\n",
    "You can subset a matrix with it, like `x[upper.tri(x)]`, however, since `[]` reduces things to the lowest dimensionality, this produces a vector of the upper triangle elements, and positions in the original matrix would need to be hand computed from that. It's still useful if you want to set elements to the upper triangle of the input though."
   ]
  },
  {
   "cell_type": "markdown",
   "metadata": {},
   "source": [
    "**4. Why does `mtcars[1:20]` return an error? How does it differ from the similar `mtcars[1:20, ]`?**"
   ]
  },
  {
   "cell_type": "markdown",
   "metadata": {
    "collapsed": true
   },
   "source": [
    "Subsetting a data frame with one vector subsets like a list, whereas subsetting with two vectors subsets like a matrix. So, `mtcars[1:20]` is interpreted as \"select the first 20 columns of `mtcars`\", and there aren't 20 columns. `mtcars[1:20, ]`, however is interpreted as \"select rows `1:20`, and all columns\".\n",
    "\n",
    "Note that `as.matrix(mtcars)[1:20]` works, though."
   ]
  },
  {
   "cell_type": "markdown",
   "metadata": {},
   "source": [
    "**5. Implement your own function that extracts the diagonal entries from a matrix (it should behave like `diag(x)` where `x` is a matrix).**"
   ]
  },
  {
   "cell_type": "code",
   "execution_count": 1,
   "metadata": {
    "collapsed": true
   },
   "outputs": [],
   "source": [
    "diag2 <- function(x) {\n",
    "    sapply(seq(ncol(x)), function(i) x[i, i])\n",
    "}"
   ]
  },
  {
   "cell_type": "markdown",
   "metadata": {},
   "source": [
    "**6. What does `df[is.na(df)] <- 0` do? How does it work?**"
   ]
  },
  {
   "cell_type": "markdown",
   "metadata": {},
   "source": [
    "`is.na(df)` returns a logical matrix with the same dimensions as `df`, where the elements are `TRUE` if the same element in `df` is `NA`. So, `df[is.na(df)]` returns all the elements in `df` that are `NA`, as a vector. By then assigning `df[is.na(df)] <- 0`, we are setting all the `NA` elements with `df` to `0`."
   ]
  },
  {
   "cell_type": "markdown",
   "metadata": {},
   "source": [
    "**7. Given a linear model, e.g., `mod <- lm(mpg ~ wt, data = mtcars)`, extract the residual degrees of freedom. Extract the R squared from the model summary (`summary(mod)`)**"
   ]
  },
  {
   "cell_type": "code",
   "execution_count": 11,
   "metadata": {
    "collapsed": false
   },
   "outputs": [
    {
     "name": "stdout",
     "output_type": "stream",
     "text": [
      "[1] \"Residual dof: 30 R^2: 0.752832793658264\"\n"
     ]
    }
   ],
   "source": [
    "mod <- lm(mpg ~ wt, data=mtcars)\n",
    "print(paste0('Residual dof: ', mod$df.residual,\n",
    "             ' R^2: ', summary(mod)$r.squared))"
   ]
  },
  {
   "cell_type": "markdown",
   "metadata": {},
   "source": [
    "**8. How would you randomly permute the columns of a data frame? (This is an important technique in random forests.) Can you simultaneously permute the rows and columns in one step?**"
   ]
  },
  {
   "cell_type": "code",
   "execution_count": 13,
   "metadata": {
    "collapsed": false
   },
   "outputs": [
    {
     "data": {
      "text/html": [
       "<table>\n",
       "<thead><tr><th scope=col>c</th><th scope=col>b</th><th scope=col>d</th><th scope=col>a</th></tr></thead>\n",
       "<tbody>\n",
       "\t<tr><td>1</td><td>1</td><td>1</td><td>1</td></tr>\n",
       "\t<tr><td>2</td><td>2</td><td>2</td><td>2</td></tr>\n",
       "\t<tr><td>3</td><td>3</td><td>3</td><td>3</td></tr>\n",
       "</tbody>\n",
       "</table>\n"
      ],
      "text/latex": [
       "\\begin{tabular}{r|llll}\n",
       " c & b & d & a\\\\\n",
       "\\hline\n",
       "\t 1 & 1 & 1 & 1\\\\\n",
       "\t 2 & 2 & 2 & 2\\\\\n",
       "\t 3 & 3 & 3 & 3\\\\\n",
       "\\end{tabular}\n"
      ],
      "text/markdown": [
       "\n",
       "c | b | d | a | \n",
       "|---|---|---|\n",
       "| 1 | 1 | 1 | 1 | \n",
       "| 2 | 2 | 2 | 2 | \n",
       "| 3 | 3 | 3 | 3 | \n",
       "\n",
       "\n"
      ],
      "text/plain": [
       "  c b d a\n",
       "1 1 1 1 1\n",
       "2 2 2 2 2\n",
       "3 3 3 3 3"
      ]
     },
     "metadata": {},
     "output_type": "display_data"
    },
    {
     "data": {
      "text/html": [
       "<table>\n",
       "<thead><tr><th></th><th scope=col>d</th><th scope=col>a</th><th scope=col>b</th><th scope=col>c</th></tr></thead>\n",
       "<tbody>\n",
       "\t<tr><th scope=row>3</th><td>3</td><td>3</td><td>3</td><td>3</td></tr>\n",
       "\t<tr><th scope=row>2</th><td>2</td><td>2</td><td>2</td><td>2</td></tr>\n",
       "\t<tr><th scope=row>1</th><td>1</td><td>1</td><td>1</td><td>1</td></tr>\n",
       "</tbody>\n",
       "</table>\n"
      ],
      "text/latex": [
       "\\begin{tabular}{r|llll}\n",
       "  & d & a & b & c\\\\\n",
       "\\hline\n",
       "\t3 & 3 & 3 & 3 & 3\\\\\n",
       "\t2 & 2 & 2 & 2 & 2\\\\\n",
       "\t1 & 1 & 1 & 1 & 1\\\\\n",
       "\\end{tabular}\n"
      ],
      "text/markdown": [
       "\n",
       "| <!--/--> | d | a | b | c | \n",
       "|---|---|---|\n",
       "| 3 | 3 | 3 | 3 | 3 | \n",
       "| 2 | 2 | 2 | 2 | 2 | \n",
       "| 1 | 1 | 1 | 1 | 1 | \n",
       "\n",
       "\n"
      ],
      "text/plain": [
       "  d a b c\n",
       "3 3 3 3 3\n",
       "2 2 2 2 2\n",
       "1 1 1 1 1"
      ]
     },
     "metadata": {},
     "output_type": "display_data"
    }
   ],
   "source": [
    "d <- data.frame(a=1:3, b=1:3, c=1:3, d=1:3)\n",
    "\n",
    "# Permuting columns\n",
    "d[, sample(ncol(d))]\n",
    "\n",
    "# Permuting both\n",
    "d[sample(nrow(d)), sample(ncol(d))]"
   ]
  },
  {
   "cell_type": "markdown",
   "metadata": {},
   "source": [
    "**9. How would you select a random sample of m rows from a data frame? What if the sample had to be contiguous (i.e., with an initial row, a final row, and every row in between)?**"
   ]
  },
  {
   "cell_type": "code",
   "execution_count": 15,
   "metadata": {
    "collapsed": false
   },
   "outputs": [
    {
     "data": {
      "text/html": [
       "<table>\n",
       "<thead><tr><th></th><th scope=col>mpg</th><th scope=col>cyl</th><th scope=col>disp</th><th scope=col>hp</th><th scope=col>drat</th><th scope=col>wt</th><th scope=col>qsec</th><th scope=col>vs</th><th scope=col>am</th><th scope=col>gear</th><th scope=col>carb</th></tr></thead>\n",
       "<tbody>\n",
       "\t<tr><th scope=row>Valiant</th><td>18.1 </td><td>6    </td><td>225.0</td><td>105  </td><td>2.76 </td><td>3.46 </td><td>20.22</td><td>1    </td><td>0    </td><td>3    </td><td>1    </td></tr>\n",
       "\t<tr><th scope=row>Camaro Z28</th><td>13.3 </td><td>8    </td><td>350.0</td><td>245  </td><td>3.73 </td><td>3.84 </td><td>15.41</td><td>0    </td><td>0    </td><td>3    </td><td>4    </td></tr>\n",
       "\t<tr><th scope=row>Hornet Sportabout</th><td>18.7 </td><td>8    </td><td>360.0</td><td>175  </td><td>3.15 </td><td>3.44 </td><td>17.02</td><td>0    </td><td>0    </td><td>3    </td><td>2    </td></tr>\n",
       "\t<tr><th scope=row>Merc 450SL</th><td>17.3 </td><td>8    </td><td>275.8</td><td>180  </td><td>3.07 </td><td>3.73 </td><td>17.60</td><td>0    </td><td>0    </td><td>3    </td><td>3    </td></tr>\n",
       "</tbody>\n",
       "</table>\n"
      ],
      "text/latex": [
       "\\begin{tabular}{r|lllllllllll}\n",
       "  & mpg & cyl & disp & hp & drat & wt & qsec & vs & am & gear & carb\\\\\n",
       "\\hline\n",
       "\tValiant & 18.1  & 6     & 225.0 & 105   & 2.76  & 3.46  & 20.22 & 1     & 0     & 3     & 1    \\\\\n",
       "\tCamaro Z28 & 13.3  & 8     & 350.0 & 245   & 3.73  & 3.84  & 15.41 & 0     & 0     & 3     & 4    \\\\\n",
       "\tHornet Sportabout & 18.7  & 8     & 360.0 & 175   & 3.15  & 3.44  & 17.02 & 0     & 0     & 3     & 2    \\\\\n",
       "\tMerc 450SL & 17.3  & 8     & 275.8 & 180   & 3.07  & 3.73  & 17.60 & 0     & 0     & 3     & 3    \\\\\n",
       "\\end{tabular}\n"
      ],
      "text/markdown": [
       "\n",
       "| <!--/--> | mpg | cyl | disp | hp | drat | wt | qsec | vs | am | gear | carb | \n",
       "|---|---|---|---|\n",
       "| Valiant | 18.1  | 6     | 225.0 | 105   | 2.76  | 3.46  | 20.22 | 1     | 0     | 3     | 1     | \n",
       "| Camaro Z28 | 13.3  | 8     | 350.0 | 245   | 3.73  | 3.84  | 15.41 | 0     | 0     | 3     | 4     | \n",
       "| Hornet Sportabout | 18.7  | 8     | 360.0 | 175   | 3.15  | 3.44  | 17.02 | 0     | 0     | 3     | 2     | \n",
       "| Merc 450SL | 17.3  | 8     | 275.8 | 180   | 3.07  | 3.73  | 17.60 | 0     | 0     | 3     | 3     | \n",
       "\n",
       "\n"
      ],
      "text/plain": [
       "                  mpg  cyl disp  hp  drat wt   qsec  vs am gear carb\n",
       "Valiant           18.1 6   225.0 105 2.76 3.46 20.22 1  0  3    1   \n",
       "Camaro Z28        13.3 8   350.0 245 3.73 3.84 15.41 0  0  3    4   \n",
       "Hornet Sportabout 18.7 8   360.0 175 3.15 3.44 17.02 0  0  3    2   \n",
       "Merc 450SL        17.3 8   275.8 180 3.07 3.73 17.60 0  0  3    3   "
      ]
     },
     "metadata": {},
     "output_type": "display_data"
    },
    {
     "data": {
      "text/html": [
       "<table>\n",
       "<thead><tr><th></th><th scope=col>mpg</th><th scope=col>cyl</th><th scope=col>disp</th><th scope=col>hp</th><th scope=col>drat</th><th scope=col>wt</th><th scope=col>qsec</th><th scope=col>vs</th><th scope=col>am</th><th scope=col>gear</th><th scope=col>carb</th></tr></thead>\n",
       "<tbody>\n",
       "\t<tr><th scope=row>Hornet Sportabout</th><td>18.7 </td><td>8    </td><td>360.0</td><td>175  </td><td>3.15 </td><td>3.44 </td><td>17.02</td><td>0    </td><td>0    </td><td>3    </td><td>2    </td></tr>\n",
       "\t<tr><th scope=row>Valiant</th><td>18.1 </td><td>6    </td><td>225.0</td><td>105  </td><td>2.76 </td><td>3.46 </td><td>20.22</td><td>1    </td><td>0    </td><td>3    </td><td>1    </td></tr>\n",
       "\t<tr><th scope=row>Duster 360</th><td>14.3 </td><td>8    </td><td>360.0</td><td>245  </td><td>3.21 </td><td>3.57 </td><td>15.84</td><td>0    </td><td>0    </td><td>3    </td><td>4    </td></tr>\n",
       "\t<tr><th scope=row>Merc 240D</th><td>24.4 </td><td>4    </td><td>146.7</td><td> 62  </td><td>3.69 </td><td>3.19 </td><td>20.00</td><td>1    </td><td>0    </td><td>4    </td><td>2    </td></tr>\n",
       "\t<tr><th scope=row>Merc 230</th><td>22.8 </td><td>4    </td><td>140.8</td><td> 95  </td><td>3.92 </td><td>3.15 </td><td>22.90</td><td>1    </td><td>0    </td><td>4    </td><td>2    </td></tr>\n",
       "</tbody>\n",
       "</table>\n"
      ],
      "text/latex": [
       "\\begin{tabular}{r|lllllllllll}\n",
       "  & mpg & cyl & disp & hp & drat & wt & qsec & vs & am & gear & carb\\\\\n",
       "\\hline\n",
       "\tHornet Sportabout & 18.7  & 8     & 360.0 & 175   & 3.15  & 3.44  & 17.02 & 0     & 0     & 3     & 2    \\\\\n",
       "\tValiant & 18.1  & 6     & 225.0 & 105   & 2.76  & 3.46  & 20.22 & 1     & 0     & 3     & 1    \\\\\n",
       "\tDuster 360 & 14.3  & 8     & 360.0 & 245   & 3.21  & 3.57  & 15.84 & 0     & 0     & 3     & 4    \\\\\n",
       "\tMerc 240D & 24.4  & 4     & 146.7 &  62   & 3.69  & 3.19  & 20.00 & 1     & 0     & 4     & 2    \\\\\n",
       "\tMerc 230 & 22.8  & 4     & 140.8 &  95   & 3.92  & 3.15  & 22.90 & 1     & 0     & 4     & 2    \\\\\n",
       "\\end{tabular}\n"
      ],
      "text/markdown": [
       "\n",
       "| <!--/--> | mpg | cyl | disp | hp | drat | wt | qsec | vs | am | gear | carb | \n",
       "|---|---|---|---|---|\n",
       "| Hornet Sportabout | 18.7  | 8     | 360.0 | 175   | 3.15  | 3.44  | 17.02 | 0     | 0     | 3     | 2     | \n",
       "| Valiant | 18.1  | 6     | 225.0 | 105   | 2.76  | 3.46  | 20.22 | 1     | 0     | 3     | 1     | \n",
       "| Duster 360 | 14.3  | 8     | 360.0 | 245   | 3.21  | 3.57  | 15.84 | 0     | 0     | 3     | 4     | \n",
       "| Merc 240D | 24.4  | 4     | 146.7 |  62   | 3.69  | 3.19  | 20.00 | 1     | 0     | 4     | 2     | \n",
       "| Merc 230 | 22.8  | 4     | 140.8 |  95   | 3.92  | 3.15  | 22.90 | 1     | 0     | 4     | 2     | \n",
       "\n",
       "\n"
      ],
      "text/plain": [
       "                  mpg  cyl disp  hp  drat wt   qsec  vs am gear carb\n",
       "Hornet Sportabout 18.7 8   360.0 175 3.15 3.44 17.02 0  0  3    2   \n",
       "Valiant           18.1 6   225.0 105 2.76 3.46 20.22 1  0  3    1   \n",
       "Duster 360        14.3 8   360.0 245 3.21 3.57 15.84 0  0  3    4   \n",
       "Merc 240D         24.4 4   146.7  62 3.69 3.19 20.00 1  0  4    2   \n",
       "Merc 230          22.8 4   140.8  95 3.92 3.15 22.90 1  0  4    2   "
      ]
     },
     "metadata": {},
     "output_type": "display_data"
    }
   ],
   "source": [
    "# Selecting random sample of m rows from data frame\n",
    "m <- 4\n",
    "mtcars[sample(nrow(mtcars), m), ]\n",
    "\n",
    "# If they were required to be contiguous\n",
    "idx <- sample(nrow(mtcars), 1)\n",
    "mtcars[idx:(idx+m), ]"
   ]
  },
  {
   "cell_type": "markdown",
   "metadata": {},
   "source": [
    "**10. How could you put the columns in a data frame in alphabetical order?**"
   ]
  },
  {
   "cell_type": "code",
   "execution_count": 20,
   "metadata": {
    "collapsed": false
   },
   "outputs": [
    {
     "data": {
      "text/html": [
       "<table>\n",
       "<thead><tr><th scope=col>a</th><th scope=col>b</th><th scope=col>c</th></tr></thead>\n",
       "<tbody>\n",
       "\t<tr><td>1</td><td>1</td><td>1</td></tr>\n",
       "\t<tr><td>2</td><td>2</td><td>2</td></tr>\n",
       "\t<tr><td>3</td><td>3</td><td>3</td></tr>\n",
       "</tbody>\n",
       "</table>\n"
      ],
      "text/latex": [
       "\\begin{tabular}{r|lll}\n",
       " a & b & c\\\\\n",
       "\\hline\n",
       "\t 1 & 1 & 1\\\\\n",
       "\t 2 & 2 & 2\\\\\n",
       "\t 3 & 3 & 3\\\\\n",
       "\\end{tabular}\n"
      ],
      "text/markdown": [
       "\n",
       "a | b | c | \n",
       "|---|---|---|\n",
       "| 1 | 1 | 1 | \n",
       "| 2 | 2 | 2 | \n",
       "| 3 | 3 | 3 | \n",
       "\n",
       "\n"
      ],
      "text/plain": [
       "  a b c\n",
       "1 1 1 1\n",
       "2 2 2 2\n",
       "3 3 3 3"
      ]
     },
     "metadata": {},
     "output_type": "display_data"
    }
   ],
   "source": [
    "d <- data.frame(c=1:3, b=1:3, a=1:3)\n",
    "d[, sort(colnames(d))]"
   ]
  },
  {
   "cell_type": "code",
   "execution_count": null,
   "metadata": {
    "collapsed": true
   },
   "outputs": [],
   "source": []
  }
 ],
 "metadata": {
  "anaconda-cloud": {},
  "kernelspec": {
   "display_name": "R",
   "language": "R",
   "name": "ir"
  },
  "language_info": {
   "codemirror_mode": "r",
   "file_extension": ".r",
   "mimetype": "text/x-r-source",
   "name": "R",
   "pygments_lexer": "r",
   "version": "3.3.3"
  }
 },
 "nbformat": 4,
 "nbformat_minor": 1
}
