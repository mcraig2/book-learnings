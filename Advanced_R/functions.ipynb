{
 "cells": [
  {
   "cell_type": "markdown",
   "metadata": {},
   "source": [
    "# Exercises"
   ]
  },
  {
   "cell_type": "markdown",
   "metadata": {},
   "source": [
    "**1. What function allows you to tell if an object is a function? What function allows you to tell if a function is a primitive function?**"
   ]
  },
  {
   "cell_type": "code",
   "execution_count": 5,
   "metadata": {
    "collapsed": false
   },
   "outputs": [
    {
     "name": "stdout",
     "output_type": "stream",
     "text": [
      "[1] TRUE\n",
      "[1] TRUE\n",
      "$y\n",
      "\n",
      "\n",
      "NULL\n"
     ]
    }
   ],
   "source": [
    "x <- function(y) y ** 2\n",
    "print(is.function(x))\n",
    "\n",
    "# `sum` is a primitive function\n",
    "print(is.function(sum))\n",
    "    \n",
    "print(formals(x))\n",
    "print(formals(sum))\n",
    "    \n",
    "# Primitive functions will return NULL for formals() and body(), but\n",
    "# return TRUE for is.function"
   ]
  },
  {
   "cell_type": "markdown",
   "metadata": {},
   "source": [
    "**2. This code makes a list of all functions in the base package.**\n",
    "\n",
    "    objs <- mget(ls(\"package:base\"), inherits = TRUE)\n",
    "    funs <- Filter(is.function, objs)\n",
    "\n",
    "**Use it to answer the following questions:**\n",
    "\n",
    "**a. Which base function has the most arguments?**\n",
    "\n",
    "**b. How many base functions have no arguments? What’s special about those functions?**\n",
    "\n",
    "**c. How could you adapt the code to find all primitive functions?**"
   ]
  },
  {
   "cell_type": "code",
   "execution_count": 52,
   "metadata": {
    "collapsed": false
   },
   "outputs": [
    {
     "name": "stdout",
     "output_type": "stream",
     "text": [
      "[1] \"Base function with most arguments is: scan\"\n",
      "[1] \"Number of functions with no arguments is: 7\"\n"
     ]
    },
    {
     "data": {
      "text/html": [
       "<dl class=dl-horizontal>\n",
       "\t<dt>-</dt>\n",
       "\t\t<dd>&lt;NA&gt;</dd>\n",
       "\t<dt>:</dt>\n",
       "\t\t<dd>&lt;NA&gt;</dd>\n",
       "\t<dt>!</dt>\n",
       "\t\t<dd>&lt;NA&gt;</dd>\n",
       "\t<dt>!=</dt>\n",
       "\t\t<dd>&lt;NA&gt;</dd>\n",
       "\t<dt>(</dt>\n",
       "\t\t<dd>&lt;NA&gt;</dd>\n",
       "\t<dt>[</dt>\n",
       "\t\t<dd>&lt;NA&gt;</dd>\n",
       "</dl>\n"
      ],
      "text/latex": [
       "\\begin{description*}\n",
       "\\item[-] <NA>\n",
       "\\item[:] <NA>\n",
       "\\item[!] <NA>\n",
       "\\item[!=] <NA>\n",
       "\\item[(] <NA>\n",
       "\\item[\\{{[}\\}] <NA>\n",
       "\\end{description*}\n"
      ],
      "text/markdown": [
       "-\n",
       ":   &lt;NA&gt;:\n",
       ":   &lt;NA&gt;!\n",
       ":   &lt;NA&gt;!=\n",
       ":   &lt;NA&gt;(\n",
       ":   &lt;NA&gt;[\n",
       ":   &lt;NA&gt;\n",
       "\n"
      ],
      "text/plain": [
       " -  :  ! !=  (  [ \n",
       "NA NA NA NA NA NA "
      ]
     },
     "metadata": {},
     "output_type": "display_data"
    }
   ],
   "source": [
    "objs <- mget(ls('package:base'), inherits=TRUE)\n",
    "funs <- Filter(is.function, objs)\n",
    "\n",
    "# Find the number of arguments in each function\n",
    "n.args <- sapply(funs, function(x) {\n",
    "    args <- formals(x)\n",
    "    args <- args[!sapply(args, is.null)]\n",
    "    if (is.null(args))\n",
    "        return(NA)\n",
    "    return(length(args))\n",
    "})\n",
    "n.args <- sort(unlist(n.args), decreasing = TRUE, na.last = TRUE)\n",
    "\n",
    "# Solution to a.\n",
    "print(paste0('Base function with most arguments is: ', names(n.args)[1]))\n",
    "    \n",
    "# Solution to b.\n",
    "no.args <- n.args[(!is.na(n.args)) & (n.args == 0)]\n",
    "print(paste0('Number of functions with no arguments is: ', length(no.args)))\n",
    "# These functions are mostly operators\n",
    "    \n",
    "# Solution to c.\n",
    "# To find all primitive functions, we can just look at all the functions with NULL\n",
    "# for `formals`.\n",
    "prim.funcs <- n.args[is.na(n.args)]\n",
    "head(prim.funcs)"
   ]
  },
  {
   "cell_type": "markdown",
   "metadata": {},
   "source": [
    "**3. What are the three important components of a function?**"
   ]
  },
  {
   "cell_type": "markdown",
   "metadata": {},
   "source": [
    "`body()` contains the code for the function\n",
    "\n",
    "`formals()` contains the arguments for the function\n",
    "\n",
    "`environment()` contains a map of the function's variables"
   ]
  },
  {
   "cell_type": "markdown",
   "metadata": {},
   "source": [
    "**4. When does printing a function not show what environment it was created in?**"
   ]
  },
  {
   "cell_type": "markdown",
   "metadata": {},
   "source": [
    "When a function was created in the global environment."
   ]
  },
  {
   "cell_type": "markdown",
   "metadata": {},
   "source": [
    "**5. What does the following code return? Why? What does each of the three `c`’s mean?**\n",
    "\n",
    "    c <- 10\n",
    "    c(c = c)"
   ]
  },
  {
   "cell_type": "markdown",
   "metadata": {},
   "source": [
    "This code returns a vector with one element named `c` and the value `10`. The expression `c(c = c)` can be interpreted as `function.named.c(element.name.c = c.the.variable)`"
   ]
  },
  {
   "cell_type": "markdown",
   "metadata": {},
   "source": [
    "**6. What are the four principles that govern how R looks for values?**"
   ]
  },
  {
   "cell_type": "markdown",
   "metadata": {
    "collapsed": true
   },
   "source": [
    "1. *Name masking* - similar to other languages, it tries to match a name in the current scope, and if it's not able to find it, it moves up one level until it reaches the global scope.\n",
    "2. *Functions vs. variables* - similar to above, but if you're using a variable as a function, it will only try to name match on other functions.\n",
    "3. *A fresh start* - each function call creates a new environment, which means that you cannot have a variable in a function scope that maintains scope across function cals.\n",
    "4. *Dynamic lookup* - variables are looked up when the function is called, not when the function is created."
   ]
  },
  {
   "cell_type": "markdown",
   "metadata": {},
   "source": [
    "**7. What does the following function return? Make a prediction before running the code yourself.**\n",
    "\n",
    "    f <- function(x) {\n",
    "      f <- function(x) {\n",
    "        f <- function(x) {\n",
    "          x ^ 2\n",
    "        }\n",
    "        f(x) + 1\n",
    "      }\n",
    "      f(x) * 2\n",
    "    }\n",
    "    f(10)"
   ]
  },
  {
   "cell_type": "markdown",
   "metadata": {},
   "source": [
    "This function will return `((10 ^ 2) + 1) * 2 = 202`."
   ]
  },
  {
   "cell_type": "markdown",
   "metadata": {},
   "source": [
    "**8. Clarify the following list of odd function calls:**\n",
    "\n",
    "    x <- sample(replace = TRUE, 20, x = c(1:10, NA))\n",
    "    y <- runif(min = 0, max = 1, 20)\n",
    "    cor(m = \"k\", y = y, u = \"p\", x = x)"
   ]
  },
  {
   "cell_type": "markdown",
   "metadata": {},
   "source": [
    "`x <- sample(replace = TRUE, 20, x = c(1:10, NA))`\n",
    "\n",
    "The only confusing thing here is the `x` in the function call. This `x` is interpreted as a function argument (`sample` has an argument called `x`).\n",
    "\n",
    "`y <- runif(min = 0, max = 1, 20)`\n",
    "\n",
    "Idk, seems pretty straightforward to me.\n",
    "\n",
    "`cor(m = \"k\", y = y, u = \"p\", x = x)`\n",
    "\n",
    "Ok so the `method` argument is partially string matched to `m`, and its value is partially string matched from `\"k\"` to `\"kendall\"`. Both `x` and `y` are named arguments of the `cor` function, and we are passing in our computed variables from earlier into it. The `use` argument of `cor` is partially string matched to `p`, and its value is partially string matched from `\"pairwise.complete.obs\"` to just `p`."
   ]
  },
  {
   "cell_type": "markdown",
   "metadata": {},
   "source": [
    "**9. What does this function return? Why? Which principle does it illustrate?**\n",
    "\n",
    "    f1 <- function(x = {y <- 1; 2}, y = 0) {\n",
    "      x + y\n",
    "    }\n",
    "    f1()"
   ]
  },
  {
   "cell_type": "markdown",
   "metadata": {},
   "source": [
    "This illustrates the concept of a \"promise\". The `x` argument is not evaluated until the call to `f1()` reaches the line `x + y`, at which point it is expanded to `{y <- 1; 2} + y`, which sets `y` to `1` and returns `2` for the value of `x`. Then `2 + y` becomes `2 + 1`, because `y` was just assigned to `1`."
   ]
  },
  {
   "cell_type": "markdown",
   "metadata": {},
   "source": [
    "**10. Create a list of all the replacement functions found in the base package. Which ones are primitive functions?**"
   ]
  },
  {
   "cell_type": "code",
   "execution_count": 2,
   "metadata": {
    "collapsed": false
   },
   "outputs": [
    {
     "name": "stdout",
     "output_type": "stream",
     "text": [
      "[1] \"All replacement functions:\"\n",
      " [1] \"[[<-\"                    \"[[<-.data.frame\"        \n",
      " [3] \"[[<-.factor\"             \"[[<-.numeric_version\"   \n",
      " [5] \"[<-\"                     \"[<-.data.frame\"         \n",
      " [7] \"[<-.Date\"                \"[<-.factor\"             \n",
      " [9] \"[<-.numeric_version\"     \"[<-.POSIXct\"            \n",
      "[11] \"[<-.POSIXlt\"             \"@<-\"                    \n",
      "[13] \"<-\"                      \"<<-\"                    \n",
      "[15] \"$<-\"                     \"$<-.data.frame\"         \n",
      "[17] \"attr<-\"                  \"attributes<-\"           \n",
      "[19] \"body<-\"                  \"class<-\"                \n",
      "[21] \"colnames<-\"              \"comment<-\"              \n",
      "[23] \"diag<-\"                  \"dim<-\"                  \n",
      "[25] \"dimnames<-\"              \"dimnames<-.data.frame\"  \n",
      "[27] \"Encoding<-\"              \"environment<-\"          \n",
      "[29] \"formals<-\"               \"is.na<-\"                \n",
      "[31] \"is.na<-.default\"         \"is.na<-.factor\"         \n",
      "[33] \"is.na<-.numeric_version\" \"length<-\"               \n",
      "[35] \"length<-.factor\"         \"levels<-\"               \n",
      "[37] \"levels<-.factor\"         \"mode<-\"                 \n",
      "[39] \"mostattributes<-\"        \"names<-\"                \n",
      "[41] \"names<-.POSIXlt\"         \"oldClass<-\"             \n",
      "[43] \"parent.env<-\"            \"regmatches<-\"           \n",
      "[45] \"row.names<-\"             \"row.names<-.data.frame\" \n",
      "[47] \"row.names<-.default\"     \"rownames<-\"             \n",
      "[49] \"split<-\"                 \"split<-.data.frame\"     \n",
      "[51] \"split<-.default\"         \"storage.mode<-\"         \n",
      "[53] \"substr<-\"                \"substring<-\"            \n",
      "[55] \"units<-\"                 \"units<-.difftime\"       \n",
      "[1] \"Primitive replacement functions:\"\n",
      " [1] \"[[<-\"           \"[<-\"            \"@<-\"            \"<-\"            \n",
      " [5] \"<<-\"            \"$<-\"            \"attr<-\"         \"attributes<-\"  \n",
      " [9] \"class<-\"        \"dim<-\"          \"dimnames<-\"     \"environment<-\" \n",
      "[13] \"length<-\"       \"levels<-\"       \"names<-\"        \"oldClass<-\"    \n",
      "[17] \"storage.mode<-\"\n"
     ]
    }
   ],
   "source": [
    "all.base.fns <- ls('package:base')\n",
    "replacement.fns <- all.base.fns[grepl('<-', all.base.fns)]\n",
    "\n",
    "print('All replacement functions:')\n",
    "print(replacement.fns)\n",
    "\n",
    "print('Primitive replacement functions:')\n",
    "print(replacement.fns[sapply(sapply(replacement.fns, formals), is.null)])"
   ]
  },
  {
   "cell_type": "markdown",
   "metadata": {},
   "source": [
    "**11. What are valid names for user-created infix functions?**"
   ]
  },
  {
   "cell_type": "markdown",
   "metadata": {
    "collapsed": true
   },
   "source": [
    "Any name that is sandwiched between two `%`, except for the few infix operators like this that are already defined. For example, `%infix%` is a valid infix name."
   ]
  },
  {
   "cell_type": "markdown",
   "metadata": {},
   "source": [
    "**12. Create an infix `xor()` operator.**"
   ]
  },
  {
   "cell_type": "code",
   "execution_count": 5,
   "metadata": {
    "collapsed": false
   },
   "outputs": [
    {
     "data": {
      "text/html": [
       "TRUE"
      ],
      "text/latex": [
       "TRUE"
      ],
      "text/markdown": [
       "TRUE"
      ],
      "text/plain": [
       "[1] TRUE"
      ]
     },
     "metadata": {},
     "output_type": "display_data"
    }
   ],
   "source": [
    "`%^%` <- function(a, b) xor(a, b)\n",
    "\n",
    "a <- TRUE; b <- FALSE\n",
    "a %^% b"
   ]
  },
  {
   "cell_type": "markdown",
   "metadata": {},
   "source": [
    "**13. Create infix versions of the set functions `intersect()`, `union()`, and `setdiff()`.**"
   ]
  },
  {
   "cell_type": "code",
   "execution_count": 6,
   "metadata": {
    "collapsed": true
   },
   "outputs": [],
   "source": [
    "`%intersect%` <- function(a, b) intersect(a, b)\n",
    "`%union%` <- function(a, b) union(a, b)\n",
    "`%setdiff%` <- function(a, b) setdiff(a, b)"
   ]
  },
  {
   "cell_type": "markdown",
   "metadata": {},
   "source": [
    "**14. Create a replacement function that modifies a random location in a vector.**"
   ]
  },
  {
   "cell_type": "code",
   "execution_count": 7,
   "metadata": {
    "collapsed": false
   },
   "outputs": [
    {
     "data": {
      "text/html": [
       "<ol class=list-inline>\n",
       "\t<li>1</li>\n",
       "\t<li>2</li>\n",
       "\t<li>3</li>\n",
       "\t<li>4</li>\n",
       "\t<li>50</li>\n",
       "\t<li>6</li>\n",
       "\t<li>7</li>\n",
       "\t<li>8</li>\n",
       "\t<li>9</li>\n",
       "\t<li>10</li>\n",
       "</ol>\n"
      ],
      "text/latex": [
       "\\begin{enumerate*}\n",
       "\\item 1\n",
       "\\item 2\n",
       "\\item 3\n",
       "\\item 4\n",
       "\\item 50\n",
       "\\item 6\n",
       "\\item 7\n",
       "\\item 8\n",
       "\\item 9\n",
       "\\item 10\n",
       "\\end{enumerate*}\n"
      ],
      "text/markdown": [
       "1. 1\n",
       "2. 2\n",
       "3. 3\n",
       "4. 4\n",
       "5. 50\n",
       "6. 6\n",
       "7. 7\n",
       "8. 8\n",
       "9. 9\n",
       "10. 10\n",
       "\n",
       "\n"
      ],
      "text/plain": [
       " [1]  1  2  3  4 50  6  7  8  9 10"
      ]
     },
     "metadata": {},
     "output_type": "display_data"
    }
   ],
   "source": [
    "`surprise<-` <- function(x, value) {\n",
    "    x[sample(length(x), 1)] <- value\n",
    "    x\n",
    "}\n",
    "\n",
    "x <- 1:10\n",
    "surprise(x) <- 50\n",
    "x"
   ]
  },
  {
   "cell_type": "markdown",
   "metadata": {},
   "source": [
    "**15. How does the `chdir` parameter of `source()` compare to `in_dir()`? Why might you prefer one approach to the other?**"
   ]
  },
  {
   "cell_type": "markdown",
   "metadata": {
    "collapsed": true
   },
   "source": [
    "The `chdir` parameter of `source()` changes the directory as a side effect of the function call, so the directory will be changed when the function leaves, whereas `in_dir()` changes it back when it's done. You can imagine situations where either would be preferred."
   ]
  },
  {
   "cell_type": "markdown",
   "metadata": {},
   "source": [
    "**16. What function undoes the action of `library()`? How do you save and restore the values of `options()` and `par()`?**"
   ]
  },
  {
   "cell_type": "markdown",
   "metadata": {},
   "source": [
    "You can unload all functions and variables from a library using `detach('package:somepackage', unload=TRUE)`. You save the current options using `p <- par()`, then set them back at the end of a function using `on.exit(par(p))`."
   ]
  },
  {
   "cell_type": "markdown",
   "metadata": {},
   "source": [
    "**17. Write a function that opens a graphics device, runs the supplied code, and closes the graphics device (always, regardless of whether or not the plotting code worked).**"
   ]
  },
  {
   "cell_type": "code",
   "execution_count": 53,
   "metadata": {
    "collapsed": true
   },
   "outputs": [],
   "source": [
    "open.gd <- function(code) {\n",
    "    gd <- dev.new()\n",
    "    force(code)\n",
    "    on.exit(dev.close())\n",
    "}"
   ]
  },
  {
   "cell_type": "markdown",
   "metadata": {},
   "source": [
    "**18. We can use `on.exit()` to implement a simple version of `capture.output()`.**\n",
    "\n",
    "    capture.output2 <- function(code) {\n",
    "      temp <- tempfile()\n",
    "      on.exit(file.remove(temp), add = TRUE)\n",
    "\n",
    "      sink(temp)\n",
    "      on.exit(sink(), add = TRUE)\n",
    "\n",
    "      force(code)\n",
    "      readLines(temp)\n",
    "    }\n",
    "    capture.output2(cat(\"a\", \"b\", \"c\", sep = \"\\n\"))\n",
    "    ## [1] \"a\" \"b\" \"c\"\n",
    "    \n",
    "**Compare `capture.output()` to `capture.output2()`. How do the functions differ? What features have I removed to make the key ideas easier to see? How have I rewritten the key ideas to be easier to understand?**\n",
    "\n"
   ]
  },
  {
   "cell_type": "markdown",
   "metadata": {},
   "source": [
    "The `capture.output()` function can capture any error messages in the `message` attribute, whereas `capture.output2()` cannot. You can also specify the file in `capture.output()`. Other than that, the main functionality is there. `capture.output()` makes use of `on.exit()` and `sink()` as well."
   ]
  },
  {
   "cell_type": "code",
   "execution_count": null,
   "metadata": {
    "collapsed": true
   },
   "outputs": [],
   "source": []
  }
 ],
 "metadata": {
  "anaconda-cloud": {},
  "kernelspec": {
   "display_name": "R",
   "language": "R",
   "name": "ir"
  },
  "language_info": {
   "codemirror_mode": "r",
   "file_extension": ".r",
   "mimetype": "text/x-r-source",
   "name": "R",
   "pygments_lexer": "r",
   "version": "3.3.3"
  }
 },
 "nbformat": 4,
 "nbformat_minor": 1
}
